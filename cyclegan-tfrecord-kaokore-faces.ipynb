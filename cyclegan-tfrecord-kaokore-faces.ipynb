{
 "cells": [
  {
   "cell_type": "code",
   "execution_count": 1,
   "metadata": {
    "_cell_guid": "b1076dfc-b9ad-4769-8c92-a6c4dae69d19",
    "_uuid": "8f2839f25d086af736a60e9eeb907d3b93b6e0e5",
    "execution": {
     "iopub.execute_input": "2021-01-18T18:13:52.505455Z",
     "iopub.status.busy": "2021-01-18T18:13:52.504616Z",
     "iopub.status.idle": "2021-01-18T18:14:00.388550Z",
     "shell.execute_reply": "2021-01-18T18:14:00.389174Z"
    },
    "papermill": {
     "duration": 7.900207,
     "end_time": "2021-01-18T18:14:00.389368",
     "exception": false,
     "start_time": "2021-01-18T18:13:52.489161",
     "status": "completed"
    },
    "tags": []
   },
   "outputs": [],
   "source": [
    "import re, math, os, cv2, random, io\n",
    "import numpy as np\n",
    "import pandas as pd\n",
    "import seaborn as sns\n",
    "import tensorflow as tf\n",
    "import matplotlib.pyplot as plt\n",
    "from sklearn.model_selection import KFold\n",
    "\n",
    "from PIL import Image\n",
    "from urllib.request import urlopen"
   ]
  },
  {
   "cell_type": "markdown",
   "metadata": {
    "papermill": {
     "duration": 0.008889,
     "end_time": "2021-01-18T18:14:00.408080",
     "exception": false,
     "start_time": "2021-01-18T18:14:00.399191",
     "status": "completed"
    },
    "tags": []
   },
   "source": [
    "### Notes\n",
    "\n",
    "The following notebook is used to create TFrecords of the Kaokore Faces Dataset. I had to use web scraping to retrive these from individual image URL's. I did this so that I can train a CycleGAN on TPU's that generates and disriminates real and fake faces.\n",
    "\n",
    "Check out the main model notebook here -> [Cycle GAN](https://www.kaggle.com/brendanartley/cyclegan-kaokore-model)\n",
    "\n",
    "--\n",
    "\n",
    "Datasets:\n",
    "\n",
    "- [Arnaud58's Flickr Faces Data](https://www.kaggle.com/arnaud58/flickrfaceshq-dataset-ffhq) - 52,000 png images of faces scraped from Flickr with size 512x512\n",
    "\n",
    "- [Kaokore Dataset](https://github.com/rois-codh/kaokore) - 8,000 faces from japanese paintings in the 16th century with size 256x256\n",
    "\n",
    "-- "
   ]
  },
  {
   "cell_type": "code",
   "execution_count": 2,
   "metadata": {
    "execution": {
     "iopub.execute_input": "2021-01-18T18:14:00.429564Z",
     "iopub.status.busy": "2021-01-18T18:14:00.428969Z",
     "iopub.status.idle": "2021-01-18T18:14:00.434314Z",
     "shell.execute_reply": "2021-01-18T18:14:00.434784Z"
    },
    "papermill": {
     "duration": 0.017724,
     "end_time": "2021-01-18T18:14:00.434934",
     "exception": false,
     "start_time": "2021-01-18T18:14:00.417210",
     "status": "completed"
    },
    "tags": []
   },
   "outputs": [],
   "source": [
    "#setting seeds for reproducability\n",
    "SEED = 3141\n",
    "\n",
    "def seed_everything(seed):\n",
    "    os.environ['PYTHONHASHSEED'] = str(seed)\n",
    "    np.random.seed(seed)\n",
    "    tf.random.set_seed(seed)\n",
    "\n",
    "seed_everything(SEED) "
   ]
  },
  {
   "cell_type": "markdown",
   "metadata": {
    "papermill": {
     "duration": 0.00911,
     "end_time": "2021-01-18T18:14:00.453401",
     "exception": false,
     "start_time": "2021-01-18T18:14:00.444291",
     "status": "completed"
    },
    "tags": []
   },
   "source": [
    "### Reading Kaokore Image URL's"
   ]
  },
  {
   "cell_type": "code",
   "execution_count": 3,
   "metadata": {
    "execution": {
     "iopub.execute_input": "2021-01-18T18:14:00.475357Z",
     "iopub.status.busy": "2021-01-18T18:14:00.474674Z",
     "iopub.status.idle": "2021-01-18T18:14:00.586130Z",
     "shell.execute_reply": "2021-01-18T18:14:00.586927Z"
    },
    "papermill": {
     "duration": 0.124355,
     "end_time": "2021-01-18T18:14:00.587119",
     "exception": false,
     "start_time": "2021-01-18T18:14:00.462764",
     "status": "completed"
    },
    "tags": []
   },
   "outputs": [
    {
     "name": "stdout",
     "output_type": "stream",
     "text": [
      "Number of Images: 8848\n"
     ]
    }
   ],
   "source": [
    "my_file = open(\"../input/kaokoregithubrepo/kaokore-master/dataset_v1.2/urls.txt\", \"r\")\n",
    "lines = [line for line in my_file.readlines()]\n",
    "\n",
    "for x, url in enumerate(lines):\n",
    "    lines[x] = url[:-1]\n",
    "    \n",
    "#creating metadata for images\n",
    "train_df = pd.DataFrame(lines, columns=['urls'])\n",
    "train_df = train_df.reset_index(drop=False)\n",
    "train_df = train_df.rename(columns={\"index\": \"row_id\"})\n",
    "    \n",
    "print('Number of Images: {}'.format(len(lines)))"
   ]
  },
  {
   "cell_type": "markdown",
   "metadata": {
    "papermill": {
     "duration": 0.009676,
     "end_time": "2021-01-18T18:14:00.608058",
     "exception": false,
     "start_time": "2021-01-18T18:14:00.598382",
     "status": "completed"
    },
    "tags": []
   },
   "source": [
    "### Variables + Split"
   ]
  },
  {
   "cell_type": "code",
   "execution_count": 4,
   "metadata": {
    "execution": {
     "iopub.execute_input": "2021-01-18T18:14:00.631346Z",
     "iopub.status.busy": "2021-01-18T18:14:00.630710Z",
     "iopub.status.idle": "2021-01-18T18:14:00.635994Z",
     "shell.execute_reply": "2021-01-18T18:14:00.636452Z"
    },
    "papermill": {
     "duration": 0.018655,
     "end_time": "2021-01-18T18:14:00.636652",
     "exception": false,
     "start_time": "2021-01-18T18:14:00.617997",
     "status": "completed"
    },
    "tags": []
   },
   "outputs": [],
   "source": [
    "IMG_SIZE = 256\n",
    "IMG_QUALITY = 100\n",
    "N_FILES = 8 #number of TFrecords created\n",
    "IMG_PER_TFREC = len(lines) / N_FILES\n",
    "HEIGHT, WIDTH = (256, 256)"
   ]
  },
  {
   "cell_type": "code",
   "execution_count": 5,
   "metadata": {
    "execution": {
     "iopub.execute_input": "2021-01-18T18:14:00.665906Z",
     "iopub.status.busy": "2021-01-18T18:14:00.665181Z",
     "iopub.status.idle": "2021-01-18T18:14:00.682651Z",
     "shell.execute_reply": "2021-01-18T18:14:00.683196Z"
    },
    "papermill": {
     "duration": 0.036474,
     "end_time": "2021-01-18T18:14:00.683358",
     "exception": false,
     "start_time": "2021-01-18T18:14:00.646884",
     "status": "completed"
    },
    "tags": []
   },
   "outputs": [
    {
     "name": "stdout",
     "output_type": "stream",
     "text": [
      "File: 1 has 1106 samples\n",
      "File: 2 has 1106 samples\n",
      "File: 3 has 1106 samples\n",
      "File: 4 has 1106 samples\n",
      "File: 5 has 1106 samples\n",
      "File: 6 has 1106 samples\n",
      "File: 7 has 1106 samples\n",
      "File: 8 has 1106 samples\n"
     ]
    },
    {
     "name": "stderr",
     "output_type": "stream",
     "text": [
      "/opt/conda/lib/python3.7/site-packages/pandas/core/indexing.py:670: SettingWithCopyWarning: \n",
      "A value is trying to be set on a copy of a slice from a DataFrame\n",
      "\n",
      "See the caveats in the documentation: https://pandas.pydata.org/pandas-docs/stable/user_guide/indexing.html#returning-a-view-versus-a-copy\n",
      "  iloc._setitem_with_indexer(indexer, value)\n"
     ]
    }
   ],
   "source": [
    "#splitting images into random TFrecords 'reproducable with seed'\n",
    "folds = KFold(n_splits=N_FILES, shuffle=True, random_state=SEED)\n",
    "train_df['file']=-1\n",
    "\n",
    "for fold_n, (train_idx, val_idx) in enumerate(folds.split(train_df)):\n",
    "    print('File: %s has %s samples' % (fold_n+1, len(val_idx)))\n",
    "    train_df['file'].loc[val_idx] = fold_n"
   ]
  },
  {
   "cell_type": "markdown",
   "metadata": {
    "papermill": {
     "duration": 0.010677,
     "end_time": "2021-01-18T18:14:00.705051",
     "exception": false,
     "start_time": "2021-01-18T18:14:00.694374",
     "status": "completed"
    },
    "tags": []
   },
   "source": [
    "### Tfrecord Functions"
   ]
  },
  {
   "cell_type": "code",
   "execution_count": 6,
   "metadata": {
    "execution": {
     "iopub.execute_input": "2021-01-18T18:14:00.736326Z",
     "iopub.status.busy": "2021-01-18T18:14:00.735314Z",
     "iopub.status.idle": "2021-01-18T18:14:00.738782Z",
     "shell.execute_reply": "2021-01-18T18:14:00.738265Z"
    },
    "papermill": {
     "duration": 0.023025,
     "end_time": "2021-01-18T18:14:00.738894",
     "exception": false,
     "start_time": "2021-01-18T18:14:00.715869",
     "status": "completed"
    },
    "tags": []
   },
   "outputs": [],
   "source": [
    "def _bytes_feature(value):\n",
    "    #Returns a bytes_list from a string / byte.\n",
    "    if isinstance(value, type(tf.constant(0))):\n",
    "        value = value.numpy() # BytesList won't unpack a string from an EagerTensor.\n",
    "    return tf.train.Feature(bytes_list=tf.train.BytesList(value=[value]))\n",
    "\n",
    "def _float_feature(value):\n",
    "    #Returns a float_list from a float / double.\n",
    "    return tf.train.Feature(float_list=tf.train.FloatList(value=[value]))\n",
    "\n",
    "def _int64_feature(value):\n",
    "    #Returns an int64_list from a bool / enum / int / uint.\n",
    "    return tf.train.Feature(int64_list=tf.train.Int64List(value=[value]))"
   ]
  },
  {
   "cell_type": "code",
   "execution_count": 7,
   "metadata": {
    "execution": {
     "iopub.execute_input": "2021-01-18T18:14:00.767900Z",
     "iopub.status.busy": "2021-01-18T18:14:00.767117Z",
     "iopub.status.idle": "2021-01-18T18:14:00.770037Z",
     "shell.execute_reply": "2021-01-18T18:14:00.769389Z"
    },
    "papermill": {
     "duration": 0.02033,
     "end_time": "2021-01-18T18:14:00.770147",
     "exception": false,
     "start_time": "2021-01-18T18:14:00.749817",
     "status": "completed"
    },
    "tags": []
   },
   "outputs": [],
   "source": [
    "def serialize_example(image, image_name):\n",
    "    feature = {\n",
    "      'image': _bytes_feature(image),\n",
    "      'image_id': _bytes_feature(image_name),\n",
    "      }\n",
    "    example_proto = tf.train.Example(features=tf.train.Features(feature=feature))\n",
    "    return example_proto.SerializeToString()"
   ]
  },
  {
   "cell_type": "code",
   "execution_count": 8,
   "metadata": {
    "execution": {
     "iopub.execute_input": "2021-01-18T18:14:00.797804Z",
     "iopub.status.busy": "2021-01-18T18:14:00.796854Z",
     "iopub.status.idle": "2021-01-18T18:14:01.106299Z",
     "shell.execute_reply": "2021-01-18T18:14:01.105578Z"
    },
    "papermill": {
     "duration": 0.324936,
     "end_time": "2021-01-18T18:14:01.106419",
     "exception": false,
     "start_time": "2021-01-18T18:14:00.781483",
     "status": "completed"
    },
    "tags": []
   },
   "outputs": [],
   "source": [
    "train_df.to_csv('train.csv',index=False)"
   ]
  },
  {
   "cell_type": "markdown",
   "metadata": {
    "papermill": {
     "duration": 0.010893,
     "end_time": "2021-01-18T18:14:01.128772",
     "exception": false,
     "start_time": "2021-01-18T18:14:01.117879",
     "status": "completed"
    },
    "tags": []
   },
   "source": [
    "### Scrape + Write TFrecords"
   ]
  },
  {
   "cell_type": "code",
   "execution_count": 9,
   "metadata": {
    "execution": {
     "iopub.execute_input": "2021-01-18T18:14:01.162406Z",
     "iopub.status.busy": "2021-01-18T18:14:01.161709Z",
     "iopub.status.idle": "2021-01-18T19:31:20.081940Z",
     "shell.execute_reply": "2021-01-18T19:31:20.080841Z"
    },
    "papermill": {
     "duration": 4638.942262,
     "end_time": "2021-01-18T19:31:20.082086",
     "exception": false,
     "start_time": "2021-01-18T18:14:01.139824",
     "status": "completed"
    },
    "tags": []
   },
   "outputs": [
    {
     "name": "stdout",
     "output_type": "stream",
     "text": [
      "\n",
      "Writing TFRecord 1 of 8...\n",
      "1106 samples\n",
      "\n",
      "Writing TFRecord 2 of 8...\n",
      "1106 samples\n",
      "\n",
      "Writing TFRecord 3 of 8...\n",
      "1106 samples\n",
      "\n",
      "Writing TFRecord 4 of 8...\n",
      "1106 samples\n",
      "\n",
      "Writing TFRecord 5 of 8...\n",
      "1106 samples\n",
      "\n",
      "Writing TFRecord 6 of 8...\n",
      "1106 samples\n",
      "\n",
      "Writing TFRecord 7 of 8...\n",
      "1106 samples\n",
      "\n",
      "Writing TFRecord 8 of 8...\n",
      "1106 samples\n"
     ]
    }
   ],
   "source": [
    "for tfrec_num in range(N_FILES):\n",
    "    print('\\nWriting TFRecord %i of %i...'%((tfrec_num+1), N_FILES))\n",
    "    samples = train_df[train_df['file'] == tfrec_num]\n",
    "    n_samples = len(samples)\n",
    "    print(f'{n_samples} samples')\n",
    "    with tf.io.TFRecordWriter('KaokoreFaces%.2i-%i.tfrec'%(tfrec_num, IMG_PER_TFREC)) as writer:\n",
    "        for row in samples.itertuples():\n",
    "            image_id = \"kaokore_{}\".format(row.row_id)\n",
    "            try:\n",
    "                image = Image.open(urlopen(lines[row.row_id]))\n",
    "                if image.size == (256, 256):\n",
    "    \n",
    "                    byteIO = io.BytesIO()\n",
    "                    image.save(byteIO, format='JPEG')\n",
    "                    img_byte_Arr = byteIO.getvalue()\n",
    "                    \n",
    "                    #cant figure out how to encode image and then write to tfrecords\n",
    "                    example = serialize_example(img_byte_Arr, str.encode(image_id))\n",
    "                    writer.write(example)\n",
    "\n",
    "            except:\n",
    "                print(\"bad url found:\")"
   ]
  }
 ],
 "metadata": {
  "kernelspec": {
   "display_name": "Python 3",
   "language": "python",
   "name": "python3"
  },
  "language_info": {
   "codemirror_mode": {
    "name": "ipython",
    "version": 3
   },
   "file_extension": ".py",
   "mimetype": "text/x-python",
   "name": "python",
   "nbconvert_exporter": "python",
   "pygments_lexer": "ipython3",
   "version": "3.7.6"
  },
  "papermill": {
   "duration": 4652.891709,
   "end_time": "2021-01-18T19:31:20.204288",
   "environment_variables": {},
   "exception": null,
   "input_path": "__notebook__.ipynb",
   "output_path": "__notebook__.ipynb",
   "parameters": {},
   "start_time": "2021-01-18T18:13:47.312579",
   "version": "2.1.0"
  }
 },
 "nbformat": 4,
 "nbformat_minor": 4
}
